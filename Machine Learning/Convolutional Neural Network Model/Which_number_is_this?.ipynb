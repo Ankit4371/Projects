{
  "nbformat": 4,
  "nbformat_minor": 0,
  "metadata": {
    "anaconda-cloud": {},
    "kernelspec": {
      "name": "python3",
      "display_name": "Python 3"
    },
    "language_info": {
      "codemirror_mode": {
        "name": "ipython",
        "version": 3
      },
      "file_extension": ".py",
      "mimetype": "text/x-python",
      "name": "python",
      "nbconvert_exporter": "python",
      "pygments_lexer": "ipython3",
      "version": "3.6.8"
    },
    "colab": {
      "name": "Which number is this?.ipynb",
      "provenance": [],
      "collapsed_sections": [],
      "include_colab_link": true
    },
    "accelerator": "GPU"
  },
  "cells": [
    {
      "cell_type": "markdown",
      "metadata": {
        "id": "view-in-github",
        "colab_type": "text"
      },
      "source": [
        "<a href=\"https://colab.research.google.com/github/Ankit4371/Projects/blob/master/Machine%20Learning/Convolutional%20Neural%20Network%20Model/Which_number_is_this%3F.ipynb\" target=\"_parent\"><img src=\"https://colab.research.google.com/assets/colab-badge.svg\" alt=\"Open In Colab\"/></a>"
      ]
    },
    {
      "cell_type": "markdown",
      "metadata": {
        "id": "GN77vsrTjM04",
        "colab_type": "text"
      },
      "source": [
        "# Which Number is this?\n",
        "\n",
        "[Convolutional Neural Networks](https://en.wikipedia.org/wiki/Convolutional_neural_network) "
      ]
    },
    {
      "cell_type": "code",
      "metadata": {
        "id": "DOMcJwFRjOpz",
        "colab_type": "code",
        "colab": {}
      },
      "source": [
        "%tensorflow_version 2.x"
      ],
      "execution_count": 2,
      "outputs": []
    },
    {
      "cell_type": "code",
      "metadata": {
        "id": "mHWfBk3sjM1m",
        "colab_type": "code",
        "colab": {}
      },
      "source": [
        "from tensorflow.keras.datasets import mnist\n",
        "from tensorflow.keras.models import Sequential\n",
        "from tensorflow.keras.layers import Dense, Dropout, Flatten\n",
        "from tensorflow.keras.layers import Conv2D, MaxPooling2D\n",
        "from tensorflow.keras import backend as K\n",
        "from tensorflow.keras.optimizers import Adam\n",
        "from matplotlib import pyplot as plt\n",
        "import numpy as np\n",
        "import random"
      ],
      "execution_count": 3,
      "outputs": []
    },
    {
      "cell_type": "markdown",
      "metadata": {
        "id": "wgM5FuvXjM15",
        "colab_type": "text"
      },
      "source": [
        "Parameters and Hyperparameters."
      ]
    },
    {
      "cell_type": "code",
      "metadata": {
        "id": "L9Nu8uRSjM18",
        "colab_type": "code",
        "colab": {}
      },
      "source": [
        "\n",
        "img_rows, img_cols = 28, 28 \n",
        "batch_size = 12\n",
        "num_classes = 10\n",
        "epochs = 20\n",
        "dropout = 0.5"
      ],
      "execution_count": 5,
      "outputs": []
    },
    {
      "cell_type": "markdown",
      "metadata": {
        "id": "OB_ROKhkjM2H",
        "colab_type": "text"
      },
      "source": [
        "### Loading data\n",
        "\n"
      ]
    },
    {
      "cell_type": "code",
      "metadata": {
        "id": "xNZd9SiqlLPo",
        "colab_type": "code",
        "colab": {
          "base_uri": "https://localhost:8080/",
          "height": 52
        },
        "outputId": "cb347545-59ec-4798-8b06-f893b3ac707a"
      },
      "source": [
        "(x_train, y_train), (x_test, y_test) = mnist.load_data()\n",
        "\n",
        "# Save original test images for display purposes\n",
        "orig_test = x_test"
      ],
      "execution_count": 6,
      "outputs": [
        {
          "output_type": "stream",
          "text": [
            "Downloading data from https://storage.googleapis.com/tensorflow/tf-keras-datasets/mnist.npz\n",
            "11493376/11490434 [==============================] - 0s 0us/step\n"
          ],
          "name": "stdout"
        }
      ]
    },
    {
      "cell_type": "markdown",
      "metadata": {
        "id": "cGUVT3axlc23",
        "colab_type": "text"
      },
      "source": [
        "The following cell displays random test images to get an idea of what they look like."
      ]
    },
    {
      "cell_type": "code",
      "metadata": {
        "id": "qEFrHyHVlXtF",
        "colab_type": "code",
        "colab": {
          "base_uri": "https://localhost:8080/",
          "height": 281
        },
        "outputId": "8ee847a2-2f1a-4d40-ab1d-73d6dbc3fcb9"
      },
      "source": [
        "index = random.randrange(1000)\n",
        "plt.imshow(orig_test[index], cmap='gray')\n",
        "plt.title('Label: %d' % y_test[index])\n",
        "plt.show()"
      ],
      "execution_count": 7,
      "outputs": [
        {
          "output_type": "display_data",
          "data": {
            "image/png": "[encoded data removed]",
            "text/plain": [
              "<Figure size 432x288 with 1 Axes>"
            ]
          },
          "metadata": {
            "tags": [],
            "needs_background": "light"
          }
        }
      ]
    },
    {
      "cell_type": "markdown",
      "metadata": {
        "id": "kOns6ruZlMrD",
        "colab_type": "text"
      },
      "source": [
        "### Data Preparation\n",
        "\n",
        "Pixel values are normalized into values ranging from 0.0 - 1.0."
      ]
    },
    {
      "cell_type": "code",
      "metadata": {
        "id": "AcbM1pEqjM2L",
        "colab_type": "code",
        "colab": {
          "base_uri": "https://localhost:8080/",
          "height": 52
        },
        "outputId": "01d933eb-c3fd-4bdd-cfc0-8610f23d63de"
      },
      "source": [
        "if K.image_data_format() == 'channels_first':\n",
        "    x_train = x_train.reshape(x_train.shape[0], 1, img_rows, img_cols)\n",
        "    x_test = x_test.reshape(x_test.shape[0], 1, img_rows, img_cols)\n",
        "    input_shape = (1, img_rows, img_cols)\n",
        "else:\n",
        "    x_train = x_train.reshape(x_train.shape[0], img_rows, img_cols, 1)\n",
        "    x_test = x_test.reshape(x_test.shape[0], img_rows, img_cols, 1)\n",
        "    input_shape = (img_rows, img_cols, 1)\n",
        "    \n",
        "x_train, x_test = x_train / 255.0, x_test / 255.0\n",
        "\n",
        "print(x_train.shape[0], 'train samples')\n",
        "print(x_test.shape[0], 'test samples')"
      ],
      "execution_count": 9,
      "outputs": [
        {
          "output_type": "stream",
          "text": [
            "60000 train samples\n",
            "10000 test samples\n"
          ],
          "name": "stdout"
        }
      ]
    },
    {
      "cell_type": "markdown",
      "metadata": {
        "id": "hWEsjkQ5jM2v",
        "colab_type": "text"
      },
      "source": [
        "## Defining Model\n"
      ]
    },
    {
      "cell_type": "code",
      "metadata": {
        "id": "mF5kDTK3jM2y",
        "colab_type": "code",
        "colab": {
          "base_uri": "https://localhost:8080/",
          "height": 439
        },
        "outputId": "8889ffaa-e2d3-486a-b2ee-87579da408d9"
      },
      "source": [
        "model = Sequential()\n",
        "model.add(Conv2D(32, kernel_size=(3, 3), activation='relu', input_shape=input_shape))\n",
        "model.add(Conv2D(64, (3, 3), activation='relu'))\n",
        "model.add(MaxPooling2D(pool_size=(2, 2)))\n",
        "model.add(Dropout(dropout/2))\n",
        "model.add(Flatten())\n",
        "model.add(Dense(128, activation='relu'))\n",
        "model.add(Dropout(dropout))\n",
        "model.add(Dense(num_classes, activation='softmax'))\n",
        "\n",
        "model.summary()"
      ],
      "execution_count": 10,
      "outputs": [
        {
          "output_type": "stream",
          "text": [
            "Model: \"sequential_1\"\n",
            "_________________________________________________________________\n",
            "Layer (type)                 Output Shape              Param #   \n",
            "=================================================================\n",
            "conv2d (Conv2D)              (None, 26, 26, 32)        320       \n",
            "_________________________________________________________________\n",
            "conv2d_1 (Conv2D)            (None, 24, 24, 64)        18496     \n",
            "_________________________________________________________________\n",
            "max_pooling2d (MaxPooling2D) (None, 12, 12, 64)        0         \n",
            "_________________________________________________________________\n",
            "dropout (Dropout)            (None, 12, 12, 64)        0         \n",
            "_________________________________________________________________\n",
            "flatten (Flatten)            (None, 9216)              0         \n",
            "_________________________________________________________________\n",
            "dense (Dense)                (None, 128)               1179776   \n",
            "_________________________________________________________________\n",
            "dropout_1 (Dropout)          (None, 128)               0         \n",
            "_________________________________________________________________\n",
            "dense_1 (Dense)              (None, 10)                1290      \n",
            "=================================================================\n",
            "Total params: 1,199,882\n",
            "Trainable params: 1,199,882\n",
            "Non-trainable params: 0\n",
            "_________________________________________________________________\n"
          ],
          "name": "stdout"
        }
      ]
    },
    {
      "cell_type": "markdown",
      "metadata": {
        "id": "JMHjxcZEjM26",
        "colab_type": "text"
      },
      "source": [
        "### Training Model\n"
      ]
    },
    {
      "cell_type": "code",
      "metadata": {
        "id": "hNbcqP__jM29",
        "colab_type": "code",
        "colab": {
          "base_uri": "https://localhost:8080/",
          "height": 1000
        },
        "outputId": "97a8c647-dab8-4110-c62c-ec12f82c3678"
      },
      "source": [
        "model.compile(loss='sparse_categorical_crossentropy', optimizer=Adam(), metrics=['accuracy'])\n",
        "\n",
        "# Train model for a given number of epochs\n",
        "history = model.fit(x_train, y_train, batch_size=batch_size, epochs=epochs, verbose=1, validation_data=(x_test, y_test))\n",
        "\n",
        "# Evaluate model against test data\n",
        "score = model.evaluate(x_test, y_test, verbose=0)\n",
        "print('Test loss:', score[0])\n",
        "print('Test accuracy:', score[1])\n",
        "\n",
        "# summarize history for accuracy\n",
        "plt.plot(history.history['accuracy'])\n",
        "plt.plot(history.history['val_accuracy'])\n",
        "plt.title('Model accuracy')\n",
        "plt.ylabel('Accuracy')\n",
        "plt.xlabel('Epoch')\n",
        "plt.legend(['Train', 'Test'], loc='upper left')\n",
        "plt.show()"
      ],
      "execution_count": 11,
      "outputs": [
        {
          "output_type": "stream",
          "text": [
            "Epoch 1/20\n",
            "5000/5000 [==============================] - 26s 5ms/step - loss: 0.1771 - accuracy: 0.9465 - val_loss: 0.0462 - val_accuracy: 0.9847\n",
            "Epoch 2/20\n",
            "5000/5000 [==============================] - 26s 5ms/step - loss: 0.0805 - accuracy: 0.9764 - val_loss: 0.0344 - val_accuracy: 0.9888\n",
            "Epoch 3/20\n",
            "5000/5000 [==============================] - 27s 5ms/step - loss: 0.0615 - accuracy: 0.9813 - val_loss: 0.0332 - val_accuracy: 0.9888\n",
            "Epoch 4/20\n",
            "5000/5000 [==============================] - 25s 5ms/step - loss: 0.0501 - accuracy: 0.9853 - val_loss: 0.0305 - val_accuracy: 0.9909\n",
            "Epoch 5/20\n",
            "5000/5000 [==============================] - 25s 5ms/step - loss: 0.0438 - accuracy: 0.9868 - val_loss: 0.0290 - val_accuracy: 0.9906\n",
            "Epoch 6/20\n",
            "5000/5000 [==============================] - 25s 5ms/step - loss: 0.0387 - accuracy: 0.9880 - val_loss: 0.0289 - val_accuracy: 0.9914\n",
            "Epoch 7/20\n",
            "5000/5000 [==============================] - 25s 5ms/step - loss: 0.0344 - accuracy: 0.9895 - val_loss: 0.0303 - val_accuracy: 0.9903\n",
            "Epoch 8/20\n",
            "5000/5000 [==============================] - 25s 5ms/step - loss: 0.0310 - accuracy: 0.9905 - val_loss: 0.0336 - val_accuracy: 0.9900\n",
            "Epoch 9/20\n",
            "5000/5000 [==============================] - 25s 5ms/step - loss: 0.0285 - accuracy: 0.9914 - val_loss: 0.0271 - val_accuracy: 0.9922\n",
            "Epoch 10/20\n",
            "5000/5000 [==============================] - 25s 5ms/step - loss: 0.0270 - accuracy: 0.9919 - val_loss: 0.0363 - val_accuracy: 0.9910\n",
            "Epoch 11/20\n",
            "5000/5000 [==============================] - 25s 5ms/step - loss: 0.0248 - accuracy: 0.9922 - val_loss: 0.0403 - val_accuracy: 0.9897\n",
            "Epoch 12/20\n",
            "5000/5000 [==============================] - 25s 5ms/step - loss: 0.0257 - accuracy: 0.9921 - val_loss: 0.0415 - val_accuracy: 0.9905\n",
            "Epoch 13/20\n",
            "5000/5000 [==============================] - 25s 5ms/step - loss: 0.0236 - accuracy: 0.9931 - val_loss: 0.0374 - val_accuracy: 0.9909\n",
            "Epoch 14/20\n",
            "5000/5000 [==============================] - 25s 5ms/step - loss: 0.0225 - accuracy: 0.9934 - val_loss: 0.0320 - val_accuracy: 0.9928\n",
            "Epoch 15/20\n",
            "5000/5000 [==============================] - 26s 5ms/step - loss: 0.0225 - accuracy: 0.9931 - val_loss: 0.0449 - val_accuracy: 0.9906\n",
            "Epoch 16/20\n",
            "5000/5000 [==============================] - 25s 5ms/step - loss: 0.0227 - accuracy: 0.9933 - val_loss: 0.0322 - val_accuracy: 0.9916\n",
            "Epoch 17/20\n",
            "5000/5000 [==============================] - 25s 5ms/step - loss: 0.0198 - accuracy: 0.9941 - val_loss: 0.0373 - val_accuracy: 0.9919\n",
            "Epoch 18/20\n",
            "5000/5000 [==============================] - 25s 5ms/step - loss: 0.0201 - accuracy: 0.9942 - val_loss: 0.0401 - val_accuracy: 0.9915\n",
            "Epoch 19/20\n",
            "5000/5000 [==============================] - 25s 5ms/step - loss: 0.0198 - accuracy: 0.9941 - val_loss: 0.0372 - val_accuracy: 0.9921\n",
            "Epoch 20/20\n",
            "5000/5000 [==============================] - 25s 5ms/step - loss: 0.0204 - accuracy: 0.9939 - val_loss: 0.0434 - val_accuracy: 0.9909\n",
            "Test loss: 0.043421320617198944\n",
            "Test accuracy: 0.9908999800682068\n"
          ],
          "name": "stdout"
        },
        {
          "output_type": "display_data",
          "data": {
            "image/png": "[encoded data removed]",
            "text/plain": [
              "<Figure size 432x288 with 1 Axes>"
            ]
          },
          "metadata": {
            "tags": [],
            "needs_background": "light"
          }
        }
      ]
    },
    {
      "cell_type": "markdown",
      "metadata": {
        "id": "YmGm6OSVjM3G",
        "colab_type": "text"
      },
      "source": [
        "### Making Predictions"
      ]
    },
    {
      "cell_type": "code",
      "metadata": {
        "id": "Q42ckWf6jM3K",
        "colab_type": "code",
        "colab": {}
      },
      "source": [
        "predictions = model.predict(x_test)\n",
        "most_likely = predictions.argmax(1)"
      ],
      "execution_count": 14,
      "outputs": []
    },
    {
      "cell_type": "markdown",
      "metadata": {
        "id": "oFh7qmw-jM3S",
        "colab_type": "text"
      },
      "source": [
        "The following cell chooses a random test image, prints the model predicted value, expected value (label), and the original image."
      ]
    },
    {
      "cell_type": "code",
      "metadata": {
        "id": "Hmx7E54jjM3V",
        "colab_type": "code",
        "colab": {
          "base_uri": "https://localhost:8080/",
          "height": 281
        },
        "outputId": "c8aee93a-8d0b-4c6c-e643-fff33061b225"
      },
      "source": [
        "index = random.randrange(10000)\n",
        "plt.title('Prediction: %d, label: %d' % (most_likely[index], y_test[index]))\n",
        "plt.imshow(orig_test[index], cmap='gray')\n",
        "plt.show()"
      ],
      "execution_count": 15,
      "outputs": [
        {
          "output_type": "display_data",
          "data": {
            "image/png": "[encoded data removed]",
            "text/plain": [
              "<Figure size 432x288 with 1 Axes>"
            ]
          },
          "metadata": {
            "tags": [],
            "needs_background": "light"
          }
        }
      ]
    },
    {
      "cell_type": "markdown",
      "metadata": {
        "id": "J9wOZZiXjM3b",
        "colab_type": "text"
      },
      "source": [
        "## Error Analysis\n",
        "\n",
        "The next cell looks for model predictions that specifically do not match the expected value. In some cases, even humans might disagree on what this image is."
      ]
    },
    {
      "cell_type": "code",
      "metadata": {
        "id": "HoOvG05sjM3d",
        "colab_type": "code",
        "colab": {
          "base_uri": "https://localhost:8080/",
          "height": 545
        },
        "outputId": "15edc712-ac3a-469c-9391-3d812223345e"
      },
      "source": [
        "for i in range(10000):\n",
        "    index = random.randrange(10000)\n",
        "    if most_likely[index] != y_test[index]:\n",
        "        break\n",
        "\n",
        "plt.imshow(orig_test[index], cmap='gray')\n",
        "plt.title('Prediction: %d, label: %d' % (most_likely[index], y_test[index]))\n",
        "plt.show()\n",
        "\n",
        "plt.bar(range(10), predictions[index], tick_label=range(10))\n",
        "plt.title('Prediction values')\n",
        "plt.show()"
      ],
      "execution_count": 16,
      "outputs": [
        {
          "output_type": "display_data",
          "data": {
            "image/png": "[encoded data removed]",
            "text/plain": [
              "<Figure size 432x288 with 1 Axes>"
            ]
          },
          "metadata": {
            "tags": [],
            "needs_background": "light"
          }
        },
        {
          "output_type": "display_data",
          "data": {
            "image/png": "[encoded data removed]",
            "text/plain": [
              "<Figure size 432x288 with 1 Axes>"
            ]
          },
          "metadata": {
            "tags": [],
            "needs_background": "light"
          }
        }
      ]
    },
    {
      "cell_type": "code",
      "metadata": {
        "id": "p4Rq5dA-jM3n",
        "colab_type": "code",
        "colab": {}
      },
      "source": [
        ""
      ],
      "execution_count": null,
      "outputs": []
    }
  ]
}