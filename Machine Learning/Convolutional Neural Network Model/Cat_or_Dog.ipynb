{
  "nbformat": 4,
  "nbformat_minor": 0,
  "metadata": {
    "colab": {
      "name": "Cat or Dog.ipynb",
      "provenance": []
    },
    "kernelspec": {
      "name": "python3",
      "display_name": "Python 3"
    }
  },
  "cells": [
    {
      "cell_type": "markdown",
      "metadata": {
        "id": "KVcTUtCqlPBM",
        "colab_type": "text"
      },
      "source": [
        "# Cat Or Dog"
      ]
    },
    {
      "cell_type": "markdown",
      "metadata": {
        "id": "Fp2ER_e-lhCW",
        "colab_type": "text"
      },
      "source": [
        "# Importing Libraries"
      ]
    },
    {
      "cell_type": "code",
      "metadata": {
        "id": "kilEuJkilGbZ",
        "colab_type": "code",
        "colab": {}
      },
      "source": [
        "import tensorflow as tf\n",
        "from keras.preprocessing.image import ImageDataGenerator"
      ],
      "execution_count": null,
      "outputs": []
    },
    {
      "cell_type": "code",
      "metadata": {
        "id": "jIqcposEihkV",
        "colab_type": "code",
        "colab": {
          "base_uri": "https://localhost:8080/",
          "height": 35
        },
        "outputId": "8f9c34c3-494d-4d2f-9cf2-4f4f04c58120"
      },
      "source": [
        "tf.__version__"
      ],
      "execution_count": null,
      "outputs": [
        {
          "output_type": "execute_result",
          "data": {
            "application/vnd.google.colaboratory.intrinsic+json": {
              "type": "string"
            },
            "text/plain": [
              "'2.3.0'"
            ]
          },
          "metadata": {
            "tags": []
          },
          "execution_count": 3
        }
      ]
    },
    {
      "cell_type": "markdown",
      "metadata": {
        "id": "EYt2gcPtny4x",
        "colab_type": "text"
      },
      "source": [
        "# Preprocessing Training set"
      ]
    },
    {
      "cell_type": "code",
      "metadata": {
        "id": "HMpxN11LiMM3",
        "colab_type": "code",
        "colab": {}
      },
      "source": [
        "train_datagen = ImageDataGenerator(\n",
        "        rescale=1./255,\n",
        "        shear_range=0.2,\n",
        "        zoom_range=0.2,\n",
        "        horizontal_flip=True)\n",
        "training_set = train_datagen.flow_from_directory(\n",
        "        'dataset/training_set',\n",
        "        target_size=(64, 64),\n",
        "        batch_size=32,\n",
        "        class_mode='binary')"
      ],
      "execution_count": null,
      "outputs": []
    },
    {
      "cell_type": "markdown",
      "metadata": {
        "id": "7nq6T32Oorhx",
        "colab_type": "text"
      },
      "source": [
        "# Preprocessing Test set\n",
        "\n"
      ]
    },
    {
      "cell_type": "code",
      "metadata": {
        "id": "1N2Zj3WMieYV",
        "colab_type": "code",
        "colab": {}
      },
      "source": [
        "test_datagen = ImageDataGenerator(rescale=1./255)\n",
        "test_set = test_datagen.flow_from_directory(\n",
        "        'dataset/test_set',\n",
        "        target_size=(64, 64),\n",
        "        batch_size=32,\n",
        "        class_mode='binary')"
      ],
      "execution_count": null,
      "outputs": []
    },
    {
      "cell_type": "markdown",
      "metadata": {
        "id": "PFchWCmhiewQ",
        "colab_type": "text"
      },
      "source": [
        "# Building CNN"
      ]
    },
    {
      "cell_type": "code",
      "metadata": {
        "id": "f_M5W7b0piJ6",
        "colab_type": "code",
        "colab": {}
      },
      "source": [
        "cnn = tf.keras.model.Sequential()\n",
        "\n",
        "cnn.add(tf.keras.layers.Conv2D(filters=32,activation='reLu',kernel_size=3,input_shape=[64,64,3]))\n",
        "\n",
        "cnn.add(tf.keras.layers.MaxPool2D(pool_size=2,strides=2))\n",
        "\n",
        "cnn.add(tf.keras.layers.Conv2D(filters=32,activation='reLu',kernel_size=3))\n",
        "\n",
        "cnn.add(tf.keras.layers.MaxPool2D(pool_size=2,strides=2))\n",
        "\n",
        "cnn.add(tf.keras.layers.Flatten())\n",
        "\n",
        "cnn.add(tf.keras.layers.Dense(units=128,activation='reLu'))\n",
        "\n",
        "cnn.add(tf.keras.layers.Dense(units=1,activation='softmax'))"
      ],
      "execution_count": null,
      "outputs": []
    },
    {
      "cell_type": "markdown",
      "metadata": {
        "id": "sr8clyX9t2Yg",
        "colab_type": "text"
      },
      "source": [
        "# Training the CNN"
      ]
    },
    {
      "cell_type": "code",
      "metadata": {
        "id": "RYWaDj7jt6Uh",
        "colab_type": "code",
        "colab": {}
      },
      "source": [
        "cnn.compile(optimizer='adam',loss='binary_crossentropy',metrics = ['accuracy'])"
      ],
      "execution_count": null,
      "outputs": []
    },
    {
      "cell_type": "code",
      "metadata": {
        "id": "aDeJF8DjuzU3",
        "colab_type": "code",
        "colab": {}
      },
      "source": [
        "cnn.fit(x=training_set, validation_data=test_set, epochs = 25)"
      ],
      "execution_count": null,
      "outputs": []
    },
    {
      "cell_type": "markdown",
      "metadata": {
        "id": "tS25YcY0vpQe",
        "colab_type": "text"
      },
      "source": [
        "# Making Single Prediction"
      ]
    },
    {
      "cell_type": "code",
      "metadata": {
        "id": "-pcGEJ2ovogi",
        "colab_type": "code",
        "colab": {}
      },
      "source": [
        "import numpy as np\n",
        "from keras.preprocessing import image\n",
        "test_image = image.load.img('dataset/single_prediction/cat_or_dog_1.jpg', target=(64,64))\n",
        "test_image = image.img_to_array(test_image)\n",
        "test_image = np.expand_dim(test_image,axis = 0)\n",
        "result = cnn.predict(test_image)\n",
        "training_set.class_indices\n",
        "if result[0][0] == 1\n",
        "  prediction = 'dog'\n",
        "else\n",
        "  prediction = 'cat'\n",
        "\n",
        "print(prediction)\n"
      ],
      "execution_count": null,
      "outputs": []
    }
  ]
}